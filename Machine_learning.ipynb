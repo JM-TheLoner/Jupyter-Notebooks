{
 "cells": [
  {
   "cell_type": "code",
   "execution_count": 1,
   "metadata": {},
   "outputs": [
    {
     "data": {
      "text/plain": [
       "array(['Acoustic', 'Jazz', 'Acoustic', 'Jazz'], dtype=object)"
      ]
     },
     "execution_count": 1,
     "metadata": {},
     "output_type": "execute_result"
    }
   ],
   "source": [
    "import pandas as pd                  \n",
    "df = pd.read_csv(\"music.csv\")               \n",
    "\n",
    "#now we need to split the csv file into onput and output patterns to enable it use the input make predictions \n",
    "X = df.drop(columns=['Genre'])\n",
    "\n",
    "#now to create the output cell from which predictions are taken\n",
    "y = df['Genre']\n",
    "\n",
    "#to do this we need to split our dataset into 2. 1 for training and the other testing\n",
    "from sklearn.model_selection import train_test_split\n",
    "\n",
    "X_train, X_test, y_train, y_test = train_test_split(X, y, test_size=0.2)       #test_size specifies the size of the test dataset.(0.2 means 20%)\n",
    "#the above unpacks the function into the 4 stated groups\n",
    "\n",
    "from sklearn.tree import DecisionTreeClassifier\n",
    "model=DecisionTreeClassifier()\n",
    "\n",
    "model.fit(X_train, y_train)                                         #to train it\n",
    "\n",
    "predictions = model.predict(X_test)       #asking to make predictions\n",
    "predictions\n",
    "\n",
    "from sklearn.metrics import accuracy_score\n",
    "score = accuracy_score(y_test, predictions)          #final step of accuracy test\n",
    "score"
   ]
  },
  {
   "cell_type": "markdown",
   "metadata": {},
   "source": [
    "Persistent Models"
   ]
  },
  {
   "cell_type": "code",
   "execution_count": null,
   "metadata": {},
   "outputs": [],
   "source": [
    "import pandas as pd               \n",
    "from sklearn.tree import DecisionTreeClassifier\n",
    "import joblib               #somepeople use from sklearn.externals import joblib. but that doesnt work here\n",
    "\n",
    "df = pd.read_csv(\"music.csv\") \n",
    "X = df.drop(columns=['Genre'])\n",
    "y = df['Genre']\n",
    "\n",
    "model=DecisionTreeClassifier()\n",
    "model.fit(X, y)                                       \n",
    "\n",
    "joblib.dump(model, 'music-recommended.joblib')          #handy way to save models\n",
    "\n",
    "#predictions = model.predict([[21, 1], [24, 0]])       \n",
    "# predictions\n"
   ]
  },
  {
   "cell_type": "code",
   "execution_count": null,
   "metadata": {},
   "outputs": [],
   "source": [
    "loaded_model = joblib.load('music-recommended.joblib')      #handy way to call dumped models from previous work\n",
    "predictions = loaded_model.predict([[21, 1], [24, 0]])       \n",
    "predictions"
   ]
  },
  {
   "cell_type": "markdown",
   "metadata": {},
   "source": [
    "Visualising Decision trees"
   ]
  },
  {
   "cell_type": "code",
   "execution_count": 7,
   "metadata": {},
   "outputs": [],
   "source": [
    "import pandas as pd               \n",
    "from sklearn.tree import DecisionTreeClassifier\n",
    "from sklearn import tree\n",
    "\n",
    "df = pd.read_csv(\"music.csv\") \n",
    "X = df.drop(columns=['Genre'])\n",
    "y = df['Genre']\n",
    "\n",
    "model=DecisionTreeClassifier()\n",
    "model.fit(X, y)                                       \n",
    "\n",
    "tree.export_graphviz(model, out_file='music_recommender.dot',\n",
    " feature_names=['Age', 'Gender'], \n",
    " class_names=sorted(y.unique()), \n",
    " label='all', \n",
    " rounded=True, \n",
    " filled=True)"
   ]
  }
 ],
 "metadata": {
  "kernelspec": {
   "display_name": "Python 3.9.12 ('base')",
   "language": "python",
   "name": "python3"
  },
  "language_info": {
   "codemirror_mode": {
    "name": "ipython",
    "version": 3
   },
   "file_extension": ".py",
   "mimetype": "text/x-python",
   "name": "python",
   "nbconvert_exporter": "python",
   "pygments_lexer": "ipython3",
   "version": "3.9.12"
  },
  "orig_nbformat": 4,
  "vscode": {
   "interpreter": {
    "hash": "dce84e865da9a2fa13466fd12371886e1cfe08bd2bcbc7203d20db0bdeac7b2b"
   }
  }
 },
 "nbformat": 4,
 "nbformat_minor": 2
}
